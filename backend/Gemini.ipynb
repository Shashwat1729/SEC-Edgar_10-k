{
  "cells": [
    {
      "cell_type": "code",
      "execution_count": 1,
      "metadata": {
        "id": "NpYDjrMb5gLA"
      },
      "outputs": [],
      "source": [
        "!pip install -q -U google-generativeai"
      ]
    },
    {
      "cell_type": "code",
      "execution_count": 2,
      "metadata": {
        "id": "ug7Tsw_V9MK6"
      },
      "outputs": [],
      "source": [
        "import pathlib\n",
        "import textwrap\n",
        "\n",
        "import google.generativeai as genai\n",
        "\n",
        "from IPython.display import display\n",
        "from IPython.display import Markdown\n",
        "\n",
        "\n",
        "def to_markdown(text):\n",
        "  text = text.replace('•', '  *')\n",
        "  return Markdown(textwrap.indent(text, '> ', predicate=lambda _: True))"
      ]
    },
    {
      "cell_type": "code",
      "execution_count": 3,
      "metadata": {
        "id": "eTO0ahuJ9RTv"
      },
      "outputs": [],
      "source": [
        "# Used to securely store your API key\n",
        "from google.colab import userdata"
      ]
    },
    {
      "cell_type": "code",
      "execution_count": 4,
      "metadata": {
        "id": "ftT8x6zf9Z04"
      },
      "outputs": [],
      "source": [
        "import os\n",
        "os.environ['GOOGLE_API_KEY']=\"API_KEY\""
      ]
    },
    {
      "cell_type": "code",
      "execution_count": 5,
      "metadata": {
        "id": "C-dWPCff94qi"
      },
      "outputs": [],
      "source": [
        "genai.configure(api_key=os.environ['GOOGLE_API_KEY'])"
      ]
    },
    {
      "cell_type": "code",
      "execution_count": 6,
      "metadata": {
        "colab": {
          "base_uri": "https://localhost:8080/",
          "height": 138
        },
        "id": "dOXQDKlt-UWo",
        "outputId": "b5e5fbcf-2a1b-43af-d96f-1429388a04b8"
      },
      "outputs": [
        {
          "name": "stdout",
          "output_type": "stream",
          "text": [
            "models/gemini-1.0-pro\n",
            "models/gemini-1.0-pro-001\n",
            "models/gemini-1.0-pro-latest\n",
            "models/gemini-1.0-pro-vision-latest\n",
            "models/gemini-1.5-pro-latest\n",
            "models/gemini-pro\n",
            "models/gemini-pro-vision\n"
          ]
        }
      ],
      "source": [
        "for m in genai.list_models():\n",
        "  if 'generateContent' in m.supported_generation_methods:\n",
        "    print(m.name)"
      ]
    },
    {
      "cell_type": "code",
      "execution_count": 7,
      "metadata": {
        "id": "UE0qBA0i-yTA"
      },
      "outputs": [],
      "source": [
        "model = genai.GenerativeModel('gemini-1.0-pro-001')"
      ]
    },
    {
      "cell_type": "code",
      "execution_count": 9,
      "metadata": {
        "id": "_aUHb2GA-_Lv"
      },
      "outputs": [],
      "source": [
        "from google.protobuf.json_format import ParseError\n",
        "from IPython.display import Markdown, display\n",
        "\n",
        "prompti = \"\"\"Based on the following data on What indivisual Insight can you give for each company- Return on Common Equity\n",
        "Year Pepsi Coca Cola Nike\n",
        "1996 0.72 0.69 0.24\n",
        "1997 1.36 0.82 0.2\n",
        "1998 1.31 0.71 0.17\n",
        "1999 1.37 0.49 0.26\n",
        "2000 1.42 0.44 0.26\n",
        "2001 1.42 0.8 0.27\n",
        "2002 1.33 0.62 0.31\n",
        "2003 1.68 0.89 0.22\n",
        "2004 2.05 0.01 0.44\n",
        "2005 2.44 1.02 0.56\n",
        "2006 2.39 1.08 0.33\n",
        "2007 3.34 1.29 0.73\n",
        "2008 3.41 1.25 0.94\n",
        "2009 3.21 1.47 0.76\n",
        "2010 3.77 2.53 0.97\n",
        "2011 3.91 1.85 1.1\n",
        "2012 4.03 1.97 1.18\n",
        "2013 3.92 1.9 1.35\n",
        "2014 4.32 1.6 1.49\n",
        "2015 4.27 1.67 1.85\n",
        "2016 3.67 1.49 2.16\n",
        "2017 4.36 1.49 2.51\n",
        "2018 3.38 1.5 1.17\n",
        "2019 8.78 2.07 2.49\n",
        "2020 5.2 1.79 1.6\n",
        "2021 5.12 2.25 3.56\n",
        "2022 5.49 2.19 3.75\n",
        "2023 6.5 2.47 3.23\"\"\"\n",
        "prompt = prompti\n",
        "response = model.generate_content(prompt)\n"
      ]
    },
    {
      "cell_type": "code",
      "execution_count": 11,
      "metadata": {
        "colab": {
          "base_uri": "https://localhost:8080/"
        },
        "id": "hUdintoMAhXh",
        "outputId": "ac5b0269-3bbb-44de-de8b-c13599cd2dd4"
      },
      "outputs": [
        {
          "name": "stdout",
          "output_type": "stream",
          "text": [
            "Response format not recognized.\n"
          ]
        }
      ],
      "source": [
        "# Define the to_markdown function\n",
        "def to_markdown(text):\n",
        "    if isinstance(text, dict):\n",
        "        text = text.get('text', '')\n",
        "    text = str(text).replace('•', '  *')\n",
        "    return Markdown(textwrap.indent(text, '> ', predicate=lambda _: True))\n",
        "\n",
        "# Check if the response contains text and image data\n",
        "if isinstance(response, dict):\n",
        "    text_content = response.get('text', '')\n",
        "    image_data = response.get('image_data', None)\n",
        "\n",
        "    # Display text using Markdown\n",
        "    print(to_markdown(text_content))\n",
        "\n",
        "    # Display image if image data is provided\n",
        "    if image_data:\n",
        "        display_image(image_data)\n",
        "else:\n",
        "    print(\"Response format not recognized.\")\n"
      ]
    },
    {
      "cell_type": "code",
      "execution_count": 12,
      "metadata": {
        "colab": {
          "base_uri": "https://localhost:8080/",
          "height": 387
        },
        "id": "LKNcxhS1nb1j",
        "outputId": "6cac250d-80d6-4aad-b8bc-ab7d899974f8"
      },
      "outputs": [
        {
          "data": {
            "text/markdown": [
              "> **Pepsi**\n",
              "> \n",
              "> * Pepsi's return on common equity (ROE) has generally been higher than that of Coca-Cola and Nike over the past 27 years.\n",
              "> * Pepsi's ROE has been especially strong in recent years, with the company achieving double-digit ROEs in each of the past five years.\n",
              "> * This strong ROE performance is likely due to a combination of factors, including Pepsi's strong brand portfolio, its efficient cost structure, and its focus on innovation.\n",
              "> \n",
              "> **Coca-Cola**\n",
              "> \n",
              "> * Coca-Cola's ROE has been more volatile than that of Pepsi over the past 27 years.\n",
              "> * However, Coca-Cola's ROE has generally been higher than that of Nike.\n",
              "> * In recent years, Coca-Cola's ROE has been relatively weak, with the company struggling to generate consistent growth.\n",
              "> * This weak ROE performance is likely due to a combination of factors, including Coca-Cola's exposure to emerging markets, its reliance on sugary drinks, and its lack of innovation.\n",
              "> \n",
              "> **Nike**\n",
              "> \n",
              "> * Nike's ROE has been the lowest of the three companies over the past 27 years.\n",
              "> * Nike's ROE has also been more volatile than that of Pepsi and Coca-Cola.\n",
              "> * In recent years, Nike's ROE has been improving, with the company benefiting from strong demand for its products in both developed and emerging markets.\n",
              "> * However, Nike's ROE is still below that of Pepsi and Coca-Cola, which suggests that the company has more work to do in order to improve its profitability."
            ],
            "text/plain": [
              "<IPython.core.display.Markdown object>"
            ]
          },
          "metadata": {},
          "output_type": "display_data"
        }
      ],
      "source": [
        "# Check if the response is of type GenerateContentResponse and has candidates\n",
        "if hasattr(response, 'candidates') and response.candidates:\n",
        "    # Extract the text content from the first candidate\n",
        "    candidate = response.candidates[0]\n",
        "    text_content = candidate.content.parts[0].text\n",
        "\n",
        "    # Display the text content using Markdown\n",
        "    display(to_markdown(text_content))\n",
        "else:\n",
        "    print(\"No candidates found in the response.\")\n"
      ]
    },
    {
      "cell_type": "code",
      "execution_count": null,
      "metadata": {
        "colab": {
          "base_uri": "https://localhost:8080/",
          "height": 529
        },
        "id": "Us0RpS4FA1Zi",
        "outputId": "c30d57e5-8074-4537-df62-260e802feef4"
      },
      "outputs": [
        {
          "data": {
            "text/html": [
              "\n",
              "     <input type=\"file\" id=\"files-d59ac586-6145-4a82-9060-ccc0832668f4\" name=\"files[]\" multiple disabled\n",
              "        style=\"border:none\" />\n",
              "     <output id=\"result-d59ac586-6145-4a82-9060-ccc0832668f4\">\n",
              "      Upload widget is only available when the cell has been executed in the\n",
              "      current browser session. Please rerun this cell to enable.\n",
              "      </output>\n",
              "      <script>// Copyright 2017 Google LLC\n",
              "//\n",
              "// Licensed under the Apache License, Version 2.0 (the \"License\");\n",
              "// you may not use this file except in compliance with the License.\n",
              "// You may obtain a copy of the License at\n",
              "//\n",
              "//      http://www.apache.org/licenses/LICENSE-2.0\n",
              "//\n",
              "// Unless required by applicable law or agreed to in writing, software\n",
              "// distributed under the License is distributed on an \"AS IS\" BASIS,\n",
              "// WITHOUT WARRANTIES OR CONDITIONS OF ANY KIND, either express or implied.\n",
              "// See the License for the specific language governing permissions and\n",
              "// limitations under the License.\n",
              "\n",
              "/**\n",
              " * @fileoverview Helpers for google.colab Python module.\n",
              " */\n",
              "(function(scope) {\n",
              "function span(text, styleAttributes = {}) {\n",
              "  const element = document.createElement('span');\n",
              "  element.textContent = text;\n",
              "  for (const key of Object.keys(styleAttributes)) {\n",
              "    element.style[key] = styleAttributes[key];\n",
              "  }\n",
              "  return element;\n",
              "}\n",
              "\n",
              "// Max number of bytes which will be uploaded at a time.\n",
              "const MAX_PAYLOAD_SIZE = 100 * 1024;\n",
              "\n",
              "function _uploadFiles(inputId, outputId) {\n",
              "  const steps = uploadFilesStep(inputId, outputId);\n",
              "  const outputElement = document.getElementById(outputId);\n",
              "  // Cache steps on the outputElement to make it available for the next call\n",
              "  // to uploadFilesContinue from Python.\n",
              "  outputElement.steps = steps;\n",
              "\n",
              "  return _uploadFilesContinue(outputId);\n",
              "}\n",
              "\n",
              "// This is roughly an async generator (not supported in the browser yet),\n",
              "// where there are multiple asynchronous steps and the Python side is going\n",
              "// to poll for completion of each step.\n",
              "// This uses a Promise to block the python side on completion of each step,\n",
              "// then passes the result of the previous step as the input to the next step.\n",
              "function _uploadFilesContinue(outputId) {\n",
              "  const outputElement = document.getElementById(outputId);\n",
              "  const steps = outputElement.steps;\n",
              "\n",
              "  const next = steps.next(outputElement.lastPromiseValue);\n",
              "  return Promise.resolve(next.value.promise).then((value) => {\n",
              "    // Cache the last promise value to make it available to the next\n",
              "    // step of the generator.\n",
              "    outputElement.lastPromiseValue = value;\n",
              "    return next.value.response;\n",
              "  });\n",
              "}\n",
              "\n",
              "/**\n",
              " * Generator function which is called between each async step of the upload\n",
              " * process.\n",
              " * @param {string} inputId Element ID of the input file picker element.\n",
              " * @param {string} outputId Element ID of the output display.\n",
              " * @return {!Iterable<!Object>} Iterable of next steps.\n",
              " */\n",
              "function* uploadFilesStep(inputId, outputId) {\n",
              "  const inputElement = document.getElementById(inputId);\n",
              "  inputElement.disabled = false;\n",
              "\n",
              "  const outputElement = document.getElementById(outputId);\n",
              "  outputElement.innerHTML = '';\n",
              "\n",
              "  const pickedPromise = new Promise((resolve) => {\n",
              "    inputElement.addEventListener('change', (e) => {\n",
              "      resolve(e.target.files);\n",
              "    });\n",
              "  });\n",
              "\n",
              "  const cancel = document.createElement('button');\n",
              "  inputElement.parentElement.appendChild(cancel);\n",
              "  cancel.textContent = 'Cancel upload';\n",
              "  const cancelPromise = new Promise((resolve) => {\n",
              "    cancel.onclick = () => {\n",
              "      resolve(null);\n",
              "    };\n",
              "  });\n",
              "\n",
              "  // Wait for the user to pick the files.\n",
              "  const files = yield {\n",
              "    promise: Promise.race([pickedPromise, cancelPromise]),\n",
              "    response: {\n",
              "      action: 'starting',\n",
              "    }\n",
              "  };\n",
              "\n",
              "  cancel.remove();\n",
              "\n",
              "  // Disable the input element since further picks are not allowed.\n",
              "  inputElement.disabled = true;\n",
              "\n",
              "  if (!files) {\n",
              "    return {\n",
              "      response: {\n",
              "        action: 'complete',\n",
              "      }\n",
              "    };\n",
              "  }\n",
              "\n",
              "  for (const file of files) {\n",
              "    const li = document.createElement('li');\n",
              "    li.append(span(file.name, {fontWeight: 'bold'}));\n",
              "    li.append(span(\n",
              "        `(${file.type || 'n/a'}) - ${file.size} bytes, ` +\n",
              "        `last modified: ${\n",
              "            file.lastModifiedDate ? file.lastModifiedDate.toLocaleDateString() :\n",
              "                                    'n/a'} - `));\n",
              "    const percent = span('0% done');\n",
              "    li.appendChild(percent);\n",
              "\n",
              "    outputElement.appendChild(li);\n",
              "\n",
              "    const fileDataPromise = new Promise((resolve) => {\n",
              "      const reader = new FileReader();\n",
              "      reader.onload = (e) => {\n",
              "        resolve(e.target.result);\n",
              "      };\n",
              "      reader.readAsArrayBuffer(file);\n",
              "    });\n",
              "    // Wait for the data to be ready.\n",
              "    let fileData = yield {\n",
              "      promise: fileDataPromise,\n",
              "      response: {\n",
              "        action: 'continue',\n",
              "      }\n",
              "    };\n",
              "\n",
              "    // Use a chunked sending to avoid message size limits. See b/62115660.\n",
              "    let position = 0;\n",
              "    do {\n",
              "      const length = Math.min(fileData.byteLength - position, MAX_PAYLOAD_SIZE);\n",
              "      const chunk = new Uint8Array(fileData, position, length);\n",
              "      position += length;\n",
              "\n",
              "      const base64 = btoa(String.fromCharCode.apply(null, chunk));\n",
              "      yield {\n",
              "        response: {\n",
              "          action: 'append',\n",
              "          file: file.name,\n",
              "          data: base64,\n",
              "        },\n",
              "      };\n",
              "\n",
              "      let percentDone = fileData.byteLength === 0 ?\n",
              "          100 :\n",
              "          Math.round((position / fileData.byteLength) * 100);\n",
              "      percent.textContent = `${percentDone}% done`;\n",
              "\n",
              "    } while (position < fileData.byteLength);\n",
              "  }\n",
              "\n",
              "  // All done.\n",
              "  yield {\n",
              "    response: {\n",
              "      action: 'complete',\n",
              "    }\n",
              "  };\n",
              "}\n",
              "\n",
              "scope.google = scope.google || {};\n",
              "scope.google.colab = scope.google.colab || {};\n",
              "scope.google.colab._files = {\n",
              "  _uploadFiles,\n",
              "  _uploadFilesContinue,\n",
              "};\n",
              "})(self);\n",
              "</script> "
            ],
            "text/plain": [
              "<IPython.core.display.HTML object>"
            ]
          },
          "metadata": {},
          "output_type": "display_data"
        },
        {
          "name": "stdout",
          "output_type": "stream",
          "text": [
            "Saving aps_ResNet_Qn_train_Qb_train_log.png to aps_ResNet_Qn_train_Qb_train_log.png\n"
          ]
        },
        {
          "data": {
            "image/png": "[encoded data removed]",
            "text/plain": [
              "<PIL.PngImagePlugin.PngImageFile image mode=RGBA size=579x455>"
            ]
          },
          "metadata": {},
          "output_type": "display_data"
        }
      ],
      "source": [
        "from PIL import Image\n",
        "from io import BytesIO\n",
        "import IPython.display as display\n",
        "\n",
        "# Importing files module for file upload in Google Colab\n",
        "from google.colab import files\n",
        "\n",
        "# Ask the user to upload an image file\n",
        "uploaded_file = files.upload()\n",
        "\n",
        "# Get the uploaded file name\n",
        "file_name = next(iter(uploaded_file))\n",
        "\n",
        "# Open the uploaded image file\n",
        "img = Image.open(BytesIO(uploaded_file[file_name]))\n",
        "display.display(img)\n"
      ]
    },
    {
      "cell_type": "code",
      "execution_count": null,
      "metadata": {
        "id": "eC1YsyLDXMGy"
      },
      "outputs": [],
      "source": [
        "model = genai.GenerativeModel('gemini-pro-vision')"
      ]
    },
    {
      "cell_type": "code",
      "execution_count": null,
      "metadata": {
        "colab": {
          "base_uri": "https://localhost:8080/",
          "height": 62
        },
        "id": "v04c42BTXPQ0",
        "outputId": "d292d9a8-2a41-4137-83b2-82cae99825b5"
      },
      "outputs": [
        {
          "data": {
            "text/markdown": [
              ">  The plot shows the natural logarithm of the negative APS as a function of the number of epochs for AlphaStar and our method."
            ],
            "text/plain": [
              "<IPython.core.display.Markdown object>"
            ]
          },
          "execution_count": 14,
          "metadata": {},
          "output_type": "execute_result"
        }
      ],
      "source": [
        "response = model.generate_content(img)\n",
        "\n",
        "to_markdown(response.text)"
      ]
    }
  ],
  "metadata": {
    "accelerator": "GPU",
    "colab": {
      "gpuType": "T4",
      "provenance": []
    },
    "kernelspec": {
      "display_name": "Python 3",
      "name": "python3"
    },
    "language_info": {
      "name": "python"
    }
  },
  "nbformat": 4,
  "nbformat_minor": 0
}
